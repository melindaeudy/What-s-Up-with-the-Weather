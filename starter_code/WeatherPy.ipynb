{
 "cells": [
  {
   "cell_type": "markdown",
   "metadata": {},
   "source": [
    "# WeatherPy\n",
    "----\n",
    "\n",
    "#### Note\n",
    "* Instructions have been included for each segment. You do not have to follow them exactly, but they are included to help you think through the steps."
   ]
  },
  {
   "cell_type": "code",
   "execution_count": 2,
   "metadata": {},
   "outputs": [
    {
     "name": "stdout",
     "output_type": "stream",
     "text": [
      "Collecting citipy\n",
      "  Downloading citipy-0.0.5.tar.gz (557 kB)\n",
      "Collecting kdtree>=0.12\n",
      "  Downloading kdtree-0.16-py2.py3-none-any.whl (7.7 kB)\n",
      "Building wheels for collected packages: citipy\n",
      "  Building wheel for citipy (setup.py): started\n",
      "  Building wheel for citipy (setup.py): finished with status 'done'\n",
      "  Created wheel for citipy: filename=citipy-0.0.5-py3-none-any.whl size=559704 sha256=7a8ada49e90ffd95f40cf269376cd850fd60ad8414a08d5b86be33f1e6799313\n",
      "  Stored in directory: c:\\users\\melinda eudy\\appdata\\local\\pip\\cache\\wheels\\6d\\df\\5e\\ad8eb9cc5ee7f4ba76865167c09f9a7edff405c669111d8353\n",
      "Successfully built citipy\n",
      "Installing collected packages: kdtree, citipy\n",
      "Successfully installed citipy-0.0.5 kdtree-0.16\n"
     ]
    }
   ],
   "source": [
    "!pip install citipy"
   ]
  },
  {
   "cell_type": "code",
   "execution_count": 48,
   "metadata": {
    "scrolled": true
   },
   "outputs": [],
   "source": [
    "# Dependencies and Setup\n",
    "import matplotlib.pyplot as plt\n",
    "import pandas as pd\n",
    "import numpy as np\n",
    "import requests\n",
    "import time\n",
    "from scipy.stats import linregress\n",
    "\n",
    "# Import API key\n",
    "from api_keys import weather_api_key\n",
    "\n",
    "# Incorporated citipy to determine city based on latitude and longitude\n",
    "from citipy import citipy\n",
    "\n",
    "# Output File (CSV)\n",
    "output_data_file = \"output_data/cities.csv\"\n",
    "\n",
    "# Range of latitudes and longitudes\n",
    "lat_range = (-90, 90)\n",
    "lng_range = (-180, 180)"
   ]
  },
  {
   "cell_type": "markdown",
   "metadata": {},
   "source": [
    "## Generate Cities List"
   ]
  },
  {
   "cell_type": "code",
   "execution_count": 49,
   "metadata": {},
   "outputs": [
    {
     "data": {
      "text/plain": [
       "662"
      ]
     },
     "execution_count": 49,
     "metadata": {},
     "output_type": "execute_result"
    }
   ],
   "source": [
    "# List for holding lat_lngs and cities\n",
    "lat_lngs = []\n",
    "cities = []\n",
    "\n",
    "# Create a set of random lat and lng combinations\n",
    "lats = np.random.uniform(lat_range[0], lat_range[1], size=1500)\n",
    "lngs = np.random.uniform(lng_range[0], lng_range[1], size=1500)\n",
    "lat_lngs = zip(lats, lngs)\n",
    "\n",
    "# Identify nearest city for each lat, lng combination\n",
    "for lat_lng in lat_lngs:\n",
    "    city = citipy.nearest_city(lat_lng[0], lat_lng[1]).city_name\n",
    "    \n",
    "    # If the city is unique, then add it to a our cities list\n",
    "    if city not in cities:\n",
    "        cities.append(city)\n",
    "\n",
    "# Print the city count to confirm sufficient count\n",
    "len(cities)\n",
    "#print(cities)"
   ]
  },
  {
   "cell_type": "markdown",
   "metadata": {},
   "source": [
    "### Perform API Calls\n",
    "* Perform a weather check on each city using a series of successive API calls.\n",
    "* Include a print log of each city as it'sbeing processed (with the city number and city name).\n"
   ]
  },
  {
   "cell_type": "code",
   "execution_count": 50,
   "metadata": {},
   "outputs": [
    {
     "name": "stdout",
     "output_type": "stream",
     "text": [
      "http://api.openweathermap.org/data/2.5/weather?appid=00af5e4d292309ab2481d0925195c95f&units=imperial&q=\n"
     ]
    }
   ],
   "source": [
    "# Create URL needed begin Weather Retrieval\n",
    "url = \"http://api.openweathermap.org/data/2.5/weather?\"\n",
    "units = \"imperial\"\n",
    "city_url = f\"{url}appid={weather_api_key}&units={units}&q=\"\n",
    "print(city_url)\n",
    "#city = \"Charlotte\"\n",
    "#response = requests.get(city_url + city).json()\n",
    "#print(response)"
   ]
  },
  {
   "cell_type": "code",
   "execution_count": 51,
   "metadata": {
    "scrolled": true
   },
   "outputs": [
    {
     "name": "stdout",
     "output_type": "stream",
     "text": [
      "Processing record 1|khandbari\n",
      "Processing record 2|vaini\n",
      "Processing record 3|jamestown\n",
      "City not found...skipping.\n",
      "Processing record 4|tasiilaq\n",
      "Processing record 5|jeffersontown\n",
      "Processing record 6|castro\n",
      "Processing record 7|longyearbyen\n",
      "City not found...skipping.\n",
      "Processing record 8|punta arenas\n",
      "Processing record 9|bredasdorp\n",
      "Processing record 10|mataura\n",
      "Processing record 11|monroe\n",
      "Processing record 12|ushuaia\n",
      "Processing record 13|khatanga\n",
      "Processing record 14|cape town\n",
      "City not found...skipping.\n",
      "City not found...skipping.\n",
      "City not found...skipping.\n",
      "City not found...skipping.\n",
      "Processing record 15|souillac\n",
      "Processing record 16|lagos\n",
      "Processing record 17|rio gallegos\n",
      "Processing record 18|wilmington\n",
      "City not found...skipping.\n",
      "Processing record 19|nyborg\n",
      "Processing record 20|busselton\n",
      "Processing record 21|yaring\n",
      "Processing record 22|san joaquin\n",
      "Processing record 23|te anau\n",
      "Processing record 24|port hardy\n",
      "Processing record 25|gidole\n",
      "Processing record 26|saint george\n",
      "Processing record 27|bluff\n",
      "Processing record 28|zaozerne\n",
      "Processing record 29|sinnamary\n",
      "Processing record 30|nivala\n",
      "Processing record 31|fortuna\n",
      "Processing record 32|upernavik\n",
      "Processing record 33|juneau\n",
      "Processing record 34|grimshaw\n",
      "City not found...skipping.\n",
      "City not found...skipping.\n",
      "Processing record 35|sapa\n",
      "Processing record 36|quelimane\n",
      "Processing record 37|faanui\n",
      "Processing record 38|new norfolk\n",
      "Processing record 39|sorong\n",
      "Processing record 40|harper\n",
      "Processing record 41|severo-kurilsk\n",
      "Processing record 42|douglas\n",
      "Processing record 43|kaduy\n",
      "Processing record 44|hermiston\n",
      "Processing record 45|pitimbu\n",
      "City not found...skipping.\n",
      "Processing record 46|chuy\n",
      "Processing record 47|beira\n",
      "Processing record 48|olafsvik\n",
      "City not found...skipping.\n",
      "Processing record 49|sungairaya\n",
      "Processing record 50|qaanaaq\n",
      "Processing record 51|yertarskiy\n",
      "Processing record 52|taoudenni\n",
      "Processing record 53|ribeira grande\n",
      "Processing record 54|rikitea\n",
      "Processing record 55|nanortalik\n",
      "Processing record 56|hobart\n",
      "Processing record 57|araguaina\n",
      "Processing record 58|burns lake\n",
      "Processing record 59|lebu\n",
      "Processing record 60|vao\n",
      "Processing record 61|kulu\n",
      "City not found...skipping.\n",
      "Processing record 62|savannakhet\n",
      "Processing record 63|abilene\n",
      "Processing record 64|laguna\n",
      "Processing record 65|praia da vitoria\n",
      "Processing record 66|barrow\n",
      "Processing record 67|torbay\n",
      "Processing record 68|kavaratti\n",
      "Processing record 69|albany\n",
      "Processing record 70|georgetown\n",
      "Processing record 71|atuona\n",
      "Processing record 72|forestville\n",
      "Processing record 73|east london\n",
      "City not found...skipping.\n",
      "Processing record 74|jinji\n",
      "Processing record 75|mar del plata\n",
      "Processing record 76|ribera\n",
      "Processing record 77|marovoay\n",
      "Processing record 78|clyde river\n",
      "Processing record 79|joshimath\n",
      "Processing record 80|zonguldak\n",
      "Processing record 81|sao filipe\n",
      "Processing record 82|norman wells\n",
      "Processing record 83|airai\n",
      "Processing record 84|bandarbeyla\n",
      "Processing record 85|kodiak\n",
      "Processing record 86|sishui\n",
      "Processing record 87|kowary\n",
      "City not found...skipping.\n",
      "Processing record 88|pevek\n",
      "Processing record 89|asau\n",
      "Processing record 90|batemans bay\n",
      "Processing record 91|puerto ayora\n",
      "Processing record 92|banjar\n",
      "Processing record 93|koutiala\n",
      "Processing record 94|udachnyy\n",
      "Processing record 95|lata\n",
      "Processing record 96|svetlogorsk\n",
      "Processing record 97|hami\n",
      "Processing record 98|butaritari\n",
      "Processing record 99|marzuq\n",
      "Processing record 100|port alfred\n",
      "Processing record 101|kununurra\n",
      "Processing record 102|bambous virieux\n",
      "Processing record 103|mahebourg\n",
      "Processing record 104|yumen\n",
      "Processing record 105|kaitangata\n",
      "Processing record 106|quatre cocos\n",
      "Processing record 107|bahia honda\n",
      "Processing record 108|barinas\n",
      "Processing record 109|moshupa\n",
      "Processing record 110|lorengau\n",
      "Processing record 111|klaksvik\n",
      "Processing record 112|bengkulu\n",
      "City not found...skipping.\n",
      "Processing record 113|mitsamiouli\n",
      "Processing record 114|saldanha\n",
      "Processing record 115|chara\n",
      "Processing record 116|chumikan\n",
      "Processing record 117|chicama\n",
      "Processing record 118|wheatley\n",
      "Processing record 119|springfield\n",
      "Processing record 120|lompoc\n",
      "City not found...skipping.\n",
      "Processing record 121|touros\n",
      "Processing record 122|abu dhabi\n",
      "Processing record 123|porto belo\n",
      "Processing record 124|hilo\n",
      "Processing record 125|beloha\n",
      "Processing record 126|labuhan\n",
      "City not found...skipping.\n",
      "Processing record 127|xining\n",
      "Processing record 128|vila\n",
      "Processing record 129|provideniya\n",
      "Processing record 130|wawa\n",
      "Processing record 131|evensk\n",
      "City not found...skipping.\n",
      "City not found...skipping.\n",
      "Processing record 132|zyryanka\n",
      "Processing record 133|novyy sulak\n",
      "City not found...skipping.\n",
      "City not found...skipping.\n",
      "Processing record 134|bethel\n",
      "Processing record 135|petropavlovsk-kamchatskiy\n",
      "Processing record 136|claremore\n",
      "Processing record 137|sitka\n",
      "Processing record 138|mokhsogollokh\n",
      "Processing record 139|sambava\n",
      "Processing record 140|yellowknife\n",
      "Processing record 141|itarema\n",
      "Processing record 142|port elizabeth\n",
      "Processing record 143|shostka\n",
      "Processing record 144|thompson\n",
      "Processing record 145|havre-saint-pierre\n",
      "Processing record 146|la peca\n",
      "Processing record 147|kruisfontein\n",
      "Processing record 148|fairbanks\n",
      "Processing record 149|cherskiy\n",
      "Processing record 150|bull savanna\n",
      "City not found...skipping.\n",
      "Processing record 151|vitim\n",
      "Processing record 152|sarkand\n",
      "Processing record 153|bathsheba\n",
      "Processing record 154|adeje\n",
      "Processing record 155|klyuchi\n",
      "Processing record 156|clarence town\n",
      "Processing record 157|kapaa\n",
      "Processing record 158|tuktoyaktuk\n",
      "Processing record 159|antofagasta\n",
      "Processing record 160|constitucion\n",
      "Processing record 161|carnarvon\n",
      "Processing record 162|abalak\n",
      "Processing record 163|san jose\n",
      "Processing record 164|hithadhoo\n",
      "Processing record 165|leningradskiy\n",
      "Processing record 166|salalah\n",
      "Processing record 167|wasilla\n",
      "Processing record 168|capoterra\n",
      "Processing record 169|sciacca\n",
      "Processing record 170|campbellton\n",
      "Processing record 171|palimbang\n",
      "Processing record 172|pacocha\n",
      "Processing record 173|sydney mines\n",
      "Processing record 174|magdalena\n",
      "Processing record 175|lujan\n",
      "Processing record 176|playas\n",
      "Processing record 177|sinnar\n",
      "Processing record 178|tautira\n",
      "Processing record 179|ulladulla\n",
      "Processing record 180|margate\n",
      "Processing record 181|la ronge\n",
      "Processing record 182|nemuro\n",
      "Processing record 183|coracora\n",
      "Processing record 184|devonport\n",
      "Processing record 185|neuquen\n",
      "Processing record 186|port lincoln\n",
      "Processing record 187|kavieng\n",
      "Processing record 188|chokurdakh\n",
      "City not found...skipping.\n",
      "Processing record 189|dikson\n",
      "Processing record 190|witu\n",
      "Processing record 191|gazojak\n",
      "Processing record 192|kloulklubed\n",
      "Processing record 193|waddan\n",
      "Processing record 194|santa maria\n",
      "Processing record 195|pangai\n",
      "City not found...skipping.\n",
      "Processing record 196|nuevo progreso\n",
      "Processing record 197|kaeo\n",
      "Processing record 198|atar\n",
      "Processing record 199|katsuura\n",
      "Processing record 200|trelew\n",
      "Processing record 201|mabaruma\n",
      "Processing record 202|nueva italia de ruiz\n",
      "City not found...skipping.\n",
      "Processing record 203|paamiut\n",
      "Processing record 204|natchez\n",
      "Processing record 205|qostanay\n",
      "Processing record 206|alta floresta\n",
      "Processing record 207|waipawa\n",
      "Processing record 208|coari\n",
      "Processing record 209|batticaloa\n",
      "Processing record 210|kendari\n",
      "City not found...skipping.\n",
      "Processing record 211|padang\n",
      "Processing record 212|codrington\n",
      "Processing record 213|wanning\n",
      "Processing record 214|sakakah\n",
      "City not found...skipping.\n",
      "Processing record 215|harindanga\n",
      "Processing record 216|alofi\n",
      "City not found...skipping.\n",
      "Processing record 217|mutoko\n",
      "City not found...skipping.\n",
      "Processing record 218|lakes entrance\n",
      "Processing record 219|camacha\n",
      "Processing record 220|tenosique\n",
      "Processing record 221|krasnoselkup\n",
      "Processing record 222|goderich\n",
      "Processing record 223|vagur\n",
      "Processing record 224|zvishavane\n",
      "Processing record 225|nikolskoye\n",
      "Processing record 226|berdigestyakh\n",
      "Processing record 227|afua\n",
      "Processing record 228|omboue\n",
      "Processing record 229|necochea\n",
      "Processing record 230|masterton\n",
      "Processing record 231|dezhou\n",
      "Processing record 232|ouagadougou\n",
      "Processing record 233|wakkanai\n",
      "Processing record 234|roald\n",
      "Processing record 235|talnakh\n",
      "Processing record 236|mizdah\n",
      "Processing record 237|avarua\n",
      "Processing record 238|nova vicosa\n",
      "Processing record 239|porto novo\n",
      "Processing record 240|the pas\n",
      "Processing record 241|tual\n"
     ]
    },
    {
     "name": "stdout",
     "output_type": "stream",
     "text": [
      "Processing record 242|wukari\n",
      "Processing record 243|avera\n",
      "Processing record 244|romilly-sur-seine\n",
      "Processing record 245|hasaki\n",
      "Processing record 246|mount isa\n",
      "Processing record 247|kysyl-syr\n",
      "Processing record 248|nantucket\n",
      "City not found...skipping.\n",
      "Processing record 249|price\n",
      "Processing record 250|ust-kuyga\n",
      "Processing record 251|swift current\n",
      "Processing record 252|takoradi\n",
      "Processing record 253|huarmey\n",
      "Processing record 254|bama\n",
      "Processing record 255|miles city\n",
      "Processing record 256|volot\n",
      "Processing record 257|krasnyy chikoy\n",
      "Processing record 258|susehri\n",
      "Processing record 259|liverpool\n",
      "Processing record 260|vasai\n",
      "Processing record 261|piombino\n",
      "Processing record 262|tanete\n",
      "City not found...skipping.\n",
      "Processing record 263|vaasa\n",
      "Processing record 264|verkhnyaya toyma\n",
      "City not found...skipping.\n",
      "Processing record 265|mattru\n",
      "City not found...skipping.\n",
      "Processing record 266|shubarkuduk\n",
      "Processing record 267|gdansk\n",
      "Processing record 268|semey\n",
      "Processing record 269|nchelenge\n",
      "Processing record 270|narsaq\n",
      "Processing record 271|san quintin\n",
      "Processing record 272|waingapu\n",
      "Processing record 273|solnechnyy\n",
      "City not found...skipping.\n",
      "Processing record 274|farafangana\n",
      "Processing record 275|drovyanaya\n",
      "Processing record 276|wad rawah\n",
      "Processing record 277|wenling\n",
      "Processing record 278|pimenta bueno\n",
      "Processing record 279|auki\n",
      "Processing record 280|dhidhdhoo\n",
      "Processing record 281|ambilobe\n",
      "Processing record 282|tignere\n",
      "Processing record 283|lima\n",
      "Processing record 284|brigantine\n",
      "Processing record 285|egvekinot\n",
      "Processing record 286|yarim\n",
      "Processing record 287|namatanai\n",
      "Processing record 288|tukrah\n",
      "Processing record 289|vardo\n",
      "Processing record 290|mina\n",
      "Processing record 291|pisco\n",
      "Processing record 292|ugoofaaru\n",
      "Processing record 293|estelle\n",
      "Processing record 294|oildale\n",
      "Processing record 295|acarau\n",
      "Processing record 296|churapcha\n",
      "Processing record 297|verkhnevilyuysk\n",
      "City not found...skipping.\n",
      "City not found...skipping.\n",
      "Processing record 298|hermanus\n",
      "Processing record 299|sibolga\n",
      "Processing record 300|abeche\n",
      "Processing record 301|cidreira\n",
      "Processing record 302|koprivnica\n",
      "Processing record 303|mineros\n",
      "Processing record 304|belle glade\n",
      "Processing record 305|coquimbo\n",
      "City not found...skipping.\n",
      "Processing record 306|axim\n",
      "Processing record 307|peleduy\n",
      "Processing record 308|berlevag\n",
      "Processing record 309|miri\n",
      "Processing record 310|victoria point\n",
      "Processing record 311|clarksdale\n",
      "Processing record 312|nara\n",
      "Processing record 313|atambua\n",
      "Processing record 314|okhotsk\n",
      "Processing record 315|kutum\n",
      "Processing record 316|katangli\n",
      "Processing record 317|norden\n",
      "Processing record 318|kathmandu\n",
      "Processing record 319|amantea\n",
      "Processing record 320|maragogi\n",
      "Processing record 321|khandyga\n",
      "City not found...skipping.\n",
      "Processing record 322|the valley\n",
      "Processing record 323|kalmunai\n",
      "Processing record 324|los llanos de aridane\n",
      "Processing record 325|ilhabela\n",
      "Processing record 326|vindeby\n",
      "Processing record 327|yar-sale\n",
      "Processing record 328|nelson\n",
      "Processing record 329|skibbereen\n",
      "City not found...skipping.\n",
      "Processing record 330|san rafael\n",
      "Processing record 331|haines junction\n",
      "Processing record 332|yanji\n",
      "Processing record 333|victoria\n",
      "Processing record 334|yangjiang\n",
      "Processing record 335|naduvattam\n",
      "Processing record 336|dondo\n",
      "Processing record 337|bonga\n",
      "Processing record 338|okha\n",
      "Processing record 339|hamilton\n",
      "Processing record 340|morgan city\n",
      "Processing record 341|bambanglipuro\n",
      "Processing record 342|natal\n",
      "Processing record 343|kurilsk\n",
      "Processing record 344|balgazyn\n",
      "Processing record 345|hadgaon\n",
      "Processing record 346|maceio\n",
      "Processing record 347|iqaluit\n",
      "Processing record 348|ponta do sol\n",
      "Processing record 349|hudson bay\n",
      "Processing record 350|hualmay\n",
      "Processing record 351|maniitsoq\n",
      "Processing record 352|acapulco\n",
      "Processing record 353|kichera\n",
      "Processing record 354|nelson bay\n",
      "Processing record 355|itoman\n",
      "Processing record 356|mayahi\n",
      "Processing record 357|sola\n",
      "Processing record 358|chimbote\n",
      "City not found...skipping.\n",
      "Processing record 359|kholtoson\n",
      "Processing record 360|boa vista\n",
      "Processing record 361|loandjili\n",
      "Processing record 362|nishihara\n",
      "Processing record 363|naze\n",
      "City not found...skipping.\n",
      "Processing record 364|san cristobal\n",
      "Processing record 365|marapanim\n",
      "Processing record 366|karratha\n",
      "Processing record 367|pangnirtung\n",
      "Processing record 368|dunedin\n",
      "Processing record 369|neyshabur\n",
      "City not found...skipping.\n",
      "Processing record 370|galle\n",
      "Processing record 371|valdosta\n",
      "Processing record 372|tuatapere\n",
      "Processing record 373|marrakesh\n",
      "Processing record 374|vila velha\n",
      "City not found...skipping.\n",
      "Processing record 375|gimli\n",
      "Processing record 376|aklavik\n",
      "Processing record 377|palmer\n",
      "Processing record 378|fort nelson\n",
      "Processing record 379|calama\n",
      "Processing record 380|parsons\n",
      "Processing record 381|ancud\n",
      "Processing record 382|yuli\n",
      "Processing record 383|beyneu\n",
      "Processing record 384|inverness\n",
      "Processing record 385|bilma\n",
      "City not found...skipping.\n",
      "Processing record 386|kaliua\n",
      "Processing record 387|tiksi\n",
      "Processing record 388|esperance\n",
      "Processing record 389|mardin\n",
      "Processing record 390|kedrovyy\n",
      "Processing record 391|ahipara\n",
      "Processing record 392|bardiyah\n",
      "Processing record 393|tsukumi\n",
      "Processing record 394|deputatskiy\n",
      "Processing record 395|raudeberg\n",
      "Processing record 396|yerofey pavlovich\n",
      "Processing record 397|moroni\n",
      "Processing record 398|araouane\n",
      "Processing record 399|port-gentil\n",
      "Processing record 400|nouakchott\n",
      "Processing record 401|lalibela\n",
      "Processing record 402|abapo\n",
      "City not found...skipping.\n",
      "Processing record 403|ambulu\n",
      "Processing record 404|sumbe\n",
      "Processing record 405|amga\n",
      "Processing record 406|najran\n",
      "Processing record 407|muzhi\n",
      "Processing record 408|nuuk\n",
      "Processing record 409|manono\n",
      "Processing record 410|punta alta\n",
      "Processing record 411|tamandare\n",
      "Processing record 412|isiro\n",
      "Processing record 413|bejar\n",
      "Processing record 414|osoyoos\n",
      "Processing record 415|dehloran\n",
      "Processing record 416|ust-omchug\n",
      "Processing record 417|lavrentiya\n",
      "Processing record 418|gulaothi\n",
      "Processing record 419|oriximina\n",
      "Processing record 420|soponya\n",
      "Processing record 421|bosaso\n",
      "Processing record 422|ballina\n",
      "Processing record 423|jalu\n",
      "City not found...skipping.\n",
      "Processing record 424|qaqortoq\n",
      "Processing record 425|rudbar\n",
      "Processing record 426|aci castello\n",
      "Processing record 427|vila franca do campo\n",
      "Processing record 428|ilulissat\n",
      "Processing record 429|hohhot\n",
      "Processing record 430|vostok\n",
      "Processing record 431|muros\n",
      "City not found...skipping.\n",
      "Processing record 432|mahon\n",
      "City not found...skipping.\n",
      "Processing record 433|grindavik\n",
      "Processing record 434|saint-philippe\n",
      "City not found...skipping.\n",
      "Processing record 435|leh\n",
      "Processing record 436|mosquera\n",
      "Processing record 437|rawson\n",
      "Processing record 438|carutapera\n",
      "Processing record 439|east wenatchee bench\n",
      "City not found...skipping.\n",
      "Processing record 440|virginia beach\n",
      "Processing record 441|arraial do cabo\n",
      "Processing record 442|bubaque\n",
      "Processing record 443|igarka\n",
      "Processing record 444|ketchikan\n",
      "Processing record 445|alyangula\n",
      "Processing record 446|aykhal\n",
      "City not found...skipping.\n",
      "Processing record 447|severnoye\n",
      "Processing record 448|sao joao del rei\n",
      "Processing record 449|broken hill\n",
      "Processing record 450|zaranj\n",
      "Processing record 451|ucluelet\n",
      "Processing record 452|saskylakh\n",
      "Processing record 453|kondoa\n",
      "Processing record 454|crotone\n",
      "Processing record 455|broome\n",
      "Processing record 456|pak phanang\n",
      "Processing record 457|jurm\n",
      "Processing record 458|general pico\n",
      "Processing record 459|minas\n",
      "Processing record 460|vigrestad\n",
      "Processing record 461|fez\n",
      "Processing record 462|ostrovnoy\n",
      "Processing record 463|mayo\n",
      "Processing record 464|san andres\n",
      "Processing record 465|sept-iles\n",
      "Processing record 466|tura\n",
      "Processing record 467|geraldton\n",
      "Processing record 468|el limon\n",
      "Processing record 469|emerald\n",
      "Processing record 470|ponnani\n",
      "Processing record 471|husavik\n",
      "Processing record 472|greensburg\n",
      "Processing record 473|miraflores\n",
      "Processing record 474|tungor\n",
      "Processing record 475|erzin\n",
      "Processing record 476|dingle\n",
      "Processing record 477|tarauaca\n",
      "Processing record 478|jardim\n",
      "Processing record 479|komsomolskiy\n",
      "Processing record 480|sharon\n",
      "Processing record 481|marsa matruh\n",
      "Processing record 482|siteki\n",
      "Processing record 483|biak\n",
      "Processing record 484|pacific grove\n",
      "Processing record 485|lasa\n",
      "Processing record 486|burnie\n",
      "Processing record 487|katherine\n"
     ]
    },
    {
     "name": "stdout",
     "output_type": "stream",
     "text": [
      "Processing record 488|oranjestad\n",
      "Processing record 489|deep river\n",
      "Processing record 490|san patricio\n",
      "City not found...skipping.\n",
      "Processing record 491|hofn\n",
      "Processing record 492|antsohihy\n",
      "City not found...skipping.\n",
      "Processing record 493|belaya gora\n",
      "Processing record 494|north bend\n",
      "Processing record 495|takab\n",
      "Processing record 496|wegrow\n",
      "Processing record 497|gainesville\n",
      "Processing record 498|bucerias\n",
      "Processing record 499|corcoran\n",
      "City not found...skipping.\n",
      "City not found...skipping.\n",
      "Processing record 500|tongling\n",
      "Processing record 501|port hedland\n",
      "Processing record 502|wonthaggi\n",
      "City not found...skipping.\n",
      "Processing record 503|kirando\n",
      "Processing record 504|sao jose da coroa grande\n",
      "Processing record 505|kamina\n",
      "Processing record 506|mount gambier\n",
      "Processing record 507|marawi\n",
      "Processing record 508|kafanchan\n",
      "Processing record 509|zhoucheng\n",
      "Processing record 510|filimonovo\n",
      "Processing record 511|jeremie\n",
      "Processing record 512|camopi\n",
      "Processing record 513|riyadh\n",
      "Processing record 514|san jeronimo\n",
      "Processing record 515|road town\n",
      "Processing record 516|mount barker\n",
      "Processing record 517|mecca\n",
      "Processing record 518|port-cartier\n",
      "Processing record 519|conceicao do araguaia\n",
      "Processing record 520|gaoua\n",
      "Processing record 521|sulangan\n",
      "Processing record 522|ust-maya\n",
      "Processing record 523|rivera\n",
      "Processing record 524|cap malheureux\n",
      "Processing record 525|leon\n",
      "Processing record 526|limbang\n",
      "Processing record 527|mackenzie\n",
      "Processing record 528|sao felix do xingu\n",
      "Processing record 529|svetlyy\n",
      "Processing record 530|ajuchitlan\n",
      "Processing record 531|encruzilhada do sul\n",
      "Processing record 532|boda\n",
      "Processing record 533|meulaboh\n",
      "Processing record 534|hue\n",
      "Processing record 535|voh\n",
      "Processing record 536|dali\n",
      "Processing record 537|kulhudhuffushi\n",
      "Processing record 538|ocampo\n",
      "Processing record 539|kiunga\n",
      "Processing record 540|shelburne\n",
      "Processing record 541|warrington\n",
      "Processing record 542|boffa\n",
      "Processing record 543|tevaitoa\n",
      "Processing record 544|sistranda\n",
      "Processing record 545|nouadhibou\n",
      "Processing record 546|nome\n",
      "Processing record 547|polson\n",
      "Processing record 548|isangel\n",
      "City not found...skipping.\n",
      "Processing record 549|oulainen\n",
      "Processing record 550|sucua\n",
      "Processing record 551|buraydah\n",
      "Processing record 552|kahului\n",
      "Processing record 553|saint anthony\n",
      "Processing record 554|poum\n",
      "Processing record 555|maunabo\n",
      "Processing record 556|chaozhou\n",
      "Processing record 557|robertsport\n",
      "Processing record 558|inirida\n",
      "Processing record 559|sovetskiy\n",
      "Processing record 560|oum hadjer\n",
      "Processing record 561|kerman\n",
      "Processing record 562|bulgan\n",
      "Processing record 563|turayf\n",
      "Processing record 564|pontianak\n",
      "City not found...skipping.\n",
      "Processing record 565|antalaha\n",
      "Processing record 566|wamba\n",
      "Processing record 567|hay river\n",
      "Processing record 568|coihaique\n",
      "Processing record 569|erenhot\n",
      "Processing record 570|fukagawa\n",
      "Processing record 571|matara\n",
      "Processing record 572|visby\n",
      "Processing record 573|beauraing\n",
      "Processing record 574|masunga\n",
      "Processing record 575|hambantota\n",
      "Processing record 576|mianyang\n",
      "Processing record 577|aksarka\n",
      "Processing record 578|laureles\n",
      "Processing record 579|forbes\n",
      "Processing record 580|sayyan\n",
      "Processing record 581|wajima\n",
      "Processing record 582|adrar\n",
      "Processing record 583|coahuayana\n",
      "Processing record 584|cairns\n",
      "Processing record 585|johi\n",
      "Processing record 586|portland\n",
      "Processing record 587|sioux lookout\n",
      "Processing record 588|dinard\n",
      "Processing record 589|pochutla\n",
      "Processing record 590|roma\n",
      "City not found...skipping.\n",
      "Processing record 591|yenagoa\n",
      "Processing record 592|aasiaat\n",
      "Processing record 593|bure\n",
      "Processing record 594|kyzyl-mazhalyk\n",
      "Processing record 595|catamarca\n",
      "Processing record 596|hot springs\n",
      "Processing record 597|bairiki\n",
      "Processing record 598|flinders\n",
      "Processing record 599|korem\n",
      "Processing record 600|tarata\n",
      "Processing record 601|batesville\n",
      "Processing record 602|el alto\n",
      "Processing record 603|tramore\n"
     ]
    }
   ],
   "source": [
    "# Create Lists to Store Values \n",
    "City_Name = []\n",
    "Coord_Lat = []\n",
    "Coord_Lng = []\n",
    "Max_Temp = []\n",
    "Humidity = []\n",
    "Clouds = []\n",
    "Wind_Speed = []\n",
    "Country = []\n",
    "Date = []\n",
    "\n",
    "# Use x count to use in output list of cities\n",
    "x = 1\n",
    "\n",
    "# Make api call and loop through cities\n",
    "for city in cities:\n",
    "    response = requests.get(city_url + city).json()\n",
    "    \n",
    "# Use try and except to extract data\n",
    "    try:\n",
    "        City_Name.append(response[\"name\"])\n",
    "        Coord_Lat.append(response[\"coord\"][\"lat\"])\n",
    "        Coord_Lng.append(response[\"coord\"][\"lon\"])\n",
    "        Max_Temp.append(response[\"main\"][\"temp_max\"])\n",
    "        Humidity.append(response[\"main\"][\"humidity\"])\n",
    "        Clouds.append(response[\"clouds\"][\"all\"])\n",
    "        Wind_Speed.append(response[\"wind\"][\"speed\"])\n",
    "        Country.append(response[\"sys\"][\"country\"])\n",
    "        Date.append(response[\"dt\"])\n",
    "        print(f\"Processing record {x}|{city}\")\n",
    "        x+=1\n",
    "    \n",
    "    except(KeyError):\n",
    "        print(\"City not found...skipping.\")\n",
    "        \n",
    "    \n"
   ]
  },
  {
   "cell_type": "markdown",
   "metadata": {},
   "source": [
    "### Convert Raw Data to DataFrame\n",
    "* Export the city data into a .csv.\n",
    "* Display the DataFrame"
   ]
  },
  {
   "cell_type": "code",
   "execution_count": 52,
   "metadata": {},
   "outputs": [
    {
     "data": {
      "text/html": [
       "<div>\n",
       "<style scoped>\n",
       "    .dataframe tbody tr th:only-of-type {\n",
       "        vertical-align: middle;\n",
       "    }\n",
       "\n",
       "    .dataframe tbody tr th {\n",
       "        vertical-align: top;\n",
       "    }\n",
       "\n",
       "    .dataframe thead th {\n",
       "        text-align: right;\n",
       "    }\n",
       "</style>\n",
       "<table border=\"1\" class=\"dataframe\">\n",
       "  <thead>\n",
       "    <tr style=\"text-align: right;\">\n",
       "      <th></th>\n",
       "      <th>City</th>\n",
       "      <th>Lat</th>\n",
       "      <th>Lng</th>\n",
       "      <th>Max Temp</th>\n",
       "      <th>Humidity</th>\n",
       "      <th>Cloudiness</th>\n",
       "      <th>Wind Speed</th>\n",
       "      <th>Country</th>\n",
       "      <th>Date</th>\n",
       "    </tr>\n",
       "  </thead>\n",
       "  <tbody>\n",
       "    <tr>\n",
       "      <th>0</th>\n",
       "      <td>Khanbari</td>\n",
       "      <td>27.3747</td>\n",
       "      <td>87.2039</td>\n",
       "      <td>50.50</td>\n",
       "      <td>74</td>\n",
       "      <td>100</td>\n",
       "      <td>1.57</td>\n",
       "      <td>NP</td>\n",
       "      <td>1612620907</td>\n",
       "    </tr>\n",
       "    <tr>\n",
       "      <th>1</th>\n",
       "      <td>Vaini</td>\n",
       "      <td>-21.2000</td>\n",
       "      <td>-175.2000</td>\n",
       "      <td>77.00</td>\n",
       "      <td>100</td>\n",
       "      <td>90</td>\n",
       "      <td>3.44</td>\n",
       "      <td>TO</td>\n",
       "      <td>1612620907</td>\n",
       "    </tr>\n",
       "    <tr>\n",
       "      <th>2</th>\n",
       "      <td>Jamestown</td>\n",
       "      <td>42.0970</td>\n",
       "      <td>-79.2353</td>\n",
       "      <td>16.00</td>\n",
       "      <td>67</td>\n",
       "      <td>90</td>\n",
       "      <td>21.85</td>\n",
       "      <td>US</td>\n",
       "      <td>1612620908</td>\n",
       "    </tr>\n",
       "    <tr>\n",
       "      <th>3</th>\n",
       "      <td>Tasiilaq</td>\n",
       "      <td>65.6145</td>\n",
       "      <td>-37.6368</td>\n",
       "      <td>32.00</td>\n",
       "      <td>93</td>\n",
       "      <td>90</td>\n",
       "      <td>21.85</td>\n",
       "      <td>GL</td>\n",
       "      <td>1612620909</td>\n",
       "    </tr>\n",
       "    <tr>\n",
       "      <th>4</th>\n",
       "      <td>Jeffersontown</td>\n",
       "      <td>38.1942</td>\n",
       "      <td>-85.5644</td>\n",
       "      <td>30.99</td>\n",
       "      <td>64</td>\n",
       "      <td>1</td>\n",
       "      <td>6.91</td>\n",
       "      <td>US</td>\n",
       "      <td>1612620909</td>\n",
       "    </tr>\n",
       "  </tbody>\n",
       "</table>\n",
       "</div>"
      ],
      "text/plain": [
       "            City      Lat       Lng  Max Temp  Humidity  Cloudiness  \\\n",
       "0       Khanbari  27.3747   87.2039     50.50        74         100   \n",
       "1          Vaini -21.2000 -175.2000     77.00       100          90   \n",
       "2      Jamestown  42.0970  -79.2353     16.00        67          90   \n",
       "3       Tasiilaq  65.6145  -37.6368     32.00        93          90   \n",
       "4  Jeffersontown  38.1942  -85.5644     30.99        64           1   \n",
       "\n",
       "   Wind Speed Country        Date  \n",
       "0        1.57      NP  1612620907  \n",
       "1        3.44      TO  1612620907  \n",
       "2       21.85      US  1612620908  \n",
       "3       21.85      GL  1612620909  \n",
       "4        6.91      US  1612620909  "
      ]
     },
     "execution_count": 52,
     "metadata": {},
     "output_type": "execute_result"
    }
   ],
   "source": [
    "#Create city data frame and save to .csv file\n",
    "city_df = pd.DataFrame({\"City\":City_Name,\n",
    "                       \"Lat\":Coord_Lat,\n",
    "                       \"Lng\":Coord_Lng,\n",
    "                       \"Max Temp\":Max_Temp,\n",
    "                       \"Humidity\":Humidity,\n",
    "                       \"Cloudiness\":Clouds,\n",
    "                       \"Wind Speed\":Wind_Speed,\n",
    "                       \"Country\":Country,\n",
    "                       \"Date\":Date})\n",
    "city_df.to_csv(\"../output_data/city.csv\")\n",
    "city_df.head()"
   ]
  },
  {
   "cell_type": "code",
   "execution_count": 53,
   "metadata": {},
   "outputs": [
    {
     "data": {
      "text/html": [
       "<div>\n",
       "<style scoped>\n",
       "    .dataframe tbody tr th:only-of-type {\n",
       "        vertical-align: middle;\n",
       "    }\n",
       "\n",
       "    .dataframe tbody tr th {\n",
       "        vertical-align: top;\n",
       "    }\n",
       "\n",
       "    .dataframe thead th {\n",
       "        text-align: right;\n",
       "    }\n",
       "</style>\n",
       "<table border=\"1\" class=\"dataframe\">\n",
       "  <thead>\n",
       "    <tr style=\"text-align: right;\">\n",
       "      <th></th>\n",
       "      <th>Lat</th>\n",
       "      <th>Lng</th>\n",
       "      <th>Max Temp</th>\n",
       "      <th>Humidity</th>\n",
       "      <th>Cloudiness</th>\n",
       "      <th>Wind Speed</th>\n",
       "      <th>Date</th>\n",
       "    </tr>\n",
       "  </thead>\n",
       "  <tbody>\n",
       "    <tr>\n",
       "      <th>count</th>\n",
       "      <td>603.000000</td>\n",
       "      <td>603.000000</td>\n",
       "      <td>603.000000</td>\n",
       "      <td>603.000000</td>\n",
       "      <td>603.00000</td>\n",
       "      <td>603.000000</td>\n",
       "      <td>6.030000e+02</td>\n",
       "    </tr>\n",
       "    <tr>\n",
       "      <th>mean</th>\n",
       "      <td>19.449249</td>\n",
       "      <td>14.965675</td>\n",
       "      <td>51.674179</td>\n",
       "      <td>70.864013</td>\n",
       "      <td>54.61194</td>\n",
       "      <td>8.067181</td>\n",
       "      <td>1.612621e+09</td>\n",
       "    </tr>\n",
       "    <tr>\n",
       "      <th>std</th>\n",
       "      <td>33.059444</td>\n",
       "      <td>91.487678</td>\n",
       "      <td>33.835323</td>\n",
       "      <td>21.235151</td>\n",
       "      <td>40.28955</td>\n",
       "      <td>5.526029</td>\n",
       "      <td>7.461674e+01</td>\n",
       "    </tr>\n",
       "    <tr>\n",
       "      <th>min</th>\n",
       "      <td>-54.800000</td>\n",
       "      <td>-179.166700</td>\n",
       "      <td>-43.010000</td>\n",
       "      <td>5.000000</td>\n",
       "      <td>0.00000</td>\n",
       "      <td>0.340000</td>\n",
       "      <td>1.612620e+09</td>\n",
       "    </tr>\n",
       "    <tr>\n",
       "      <th>25%</th>\n",
       "      <td>-7.657650</td>\n",
       "      <td>-66.769050</td>\n",
       "      <td>32.000000</td>\n",
       "      <td>59.500000</td>\n",
       "      <td>6.00000</td>\n",
       "      <td>3.440000</td>\n",
       "      <td>1.612621e+09</td>\n",
       "    </tr>\n",
       "    <tr>\n",
       "      <th>50%</th>\n",
       "      <td>22.038300</td>\n",
       "      <td>17.117800</td>\n",
       "      <td>61.000000</td>\n",
       "      <td>76.000000</td>\n",
       "      <td>75.00000</td>\n",
       "      <td>6.910000</td>\n",
       "      <td>1.612621e+09</td>\n",
       "    </tr>\n",
       "    <tr>\n",
       "      <th>75%</th>\n",
       "      <td>47.546150</td>\n",
       "      <td>100.268700</td>\n",
       "      <td>78.800000</td>\n",
       "      <td>86.000000</td>\n",
       "      <td>95.50000</td>\n",
       "      <td>11.490000</td>\n",
       "      <td>1.612621e+09</td>\n",
       "    </tr>\n",
       "    <tr>\n",
       "      <th>max</th>\n",
       "      <td>78.218600</td>\n",
       "      <td>178.416700</td>\n",
       "      <td>103.230000</td>\n",
       "      <td>100.000000</td>\n",
       "      <td>100.00000</td>\n",
       "      <td>27.630000</td>\n",
       "      <td>1.612621e+09</td>\n",
       "    </tr>\n",
       "  </tbody>\n",
       "</table>\n",
       "</div>"
      ],
      "text/plain": [
       "              Lat         Lng    Max Temp    Humidity  Cloudiness  Wind Speed  \\\n",
       "count  603.000000  603.000000  603.000000  603.000000   603.00000  603.000000   \n",
       "mean    19.449249   14.965675   51.674179   70.864013    54.61194    8.067181   \n",
       "std     33.059444   91.487678   33.835323   21.235151    40.28955    5.526029   \n",
       "min    -54.800000 -179.166700  -43.010000    5.000000     0.00000    0.340000   \n",
       "25%     -7.657650  -66.769050   32.000000   59.500000     6.00000    3.440000   \n",
       "50%     22.038300   17.117800   61.000000   76.000000    75.00000    6.910000   \n",
       "75%     47.546150  100.268700   78.800000   86.000000    95.50000   11.490000   \n",
       "max     78.218600  178.416700  103.230000  100.000000   100.00000   27.630000   \n",
       "\n",
       "               Date  \n",
       "count  6.030000e+02  \n",
       "mean   1.612621e+09  \n",
       "std    7.461674e+01  \n",
       "min    1.612620e+09  \n",
       "25%    1.612621e+09  \n",
       "50%    1.612621e+09  \n",
       "75%    1.612621e+09  \n",
       "max    1.612621e+09  "
      ]
     },
     "execution_count": 53,
     "metadata": {},
     "output_type": "execute_result"
    }
   ],
   "source": [
    "city_df.describe()"
   ]
  },
  {
   "cell_type": "markdown",
   "metadata": {},
   "source": [
    "## Inspect the data and remove the cities where the humidity > 100%.\n",
    "----\n",
    "Skip this step if there are no cities that have humidity > 100%. "
   ]
  },
  {
   "cell_type": "code",
   "execution_count": 54,
   "metadata": {},
   "outputs": [],
   "source": [
    "# per chart above max humidity is 100"
   ]
  },
  {
   "cell_type": "markdown",
   "metadata": {},
   "source": [
    "## Plotting the Data\n",
    "* Use proper labeling of the plots using plot titles (including date of analysis) and axes labels.\n",
    "* Save the plotted figures as .pngs."
   ]
  },
  {
   "cell_type": "markdown",
   "metadata": {},
   "source": [
    "## Latitude vs. Temperature Plot"
   ]
  },
  {
   "cell_type": "code",
   "execution_count": 55,
   "metadata": {
    "scrolled": true
   },
   "outputs": [
    {
     "data": {
      "image/png": "[encoded data removed]",
      "text/plain": [
       "<Figure size 432x288 with 1 Axes>"
      ]
     },
     "metadata": {
      "needs_background": "light"
     },
     "output_type": "display_data"
    },
    {
     "name": "stdout",
     "output_type": "stream",
     "text": [
      "Based on the Random Cities selected, the closer the city is to the equator the higher the max temperature.  There is a clear relationship in the scatter plot from left to right.\n"
     ]
    }
   ],
   "source": [
    "plt.scatter(city_df[\"Lat\"],city_df[\"Max Temp\"])\n",
    "plt.title(\"City Latitude vs. Max Temperature (02/02/21)\")\n",
    "plt.xlabel(\"Latitude\")\n",
    "plt.ylabel(\"Max Temperature (F)\")\n",
    "plt.savefig(\"../Output_data/Lat_Temp.png\")\n",
    "plt.show()\n",
    "print(\"Based on the Random Cities selected, the closer the city is to the equator the higher the max temperature.  There is a clear relationship in the scatter plot from left to right.\")"
   ]
  },
  {
   "cell_type": "markdown",
   "metadata": {},
   "source": [
    "## Latitude vs. Humidity Plot"
   ]
  },
  {
   "cell_type": "code",
   "execution_count": 56,
   "metadata": {},
   "outputs": [
    {
     "data": {
      "image/png": "[encoded data removed]",
      "text/plain": [
       "<Figure size 432x288 with 1 Axes>"
      ]
     },
     "metadata": {
      "needs_background": "light"
     },
     "output_type": "display_data"
    },
    {
     "name": "stdout",
     "output_type": "stream",
     "text": [
      "Based on the Random Cities selected, there is no correlation between the city latitude and the Humidity of the city.\n"
     ]
    }
   ],
   "source": [
    "plt.scatter(city_df[\"Lat\"],city_df[\"Humidity\"])\n",
    "plt.title(\"City Latitude vs. Humidity (02/02/21)\")\n",
    "plt.xlabel(\"Latitude\")\n",
    "plt.ylabel(\"Humdity\")\n",
    "plt.savefig(\"../Output_data/Lat_Humidity.png\")\n",
    "plt.show()\n",
    "print(\"Based on the Random Cities selected, there is no correlation between the city latitude and the Humidity of the city.\")"
   ]
  },
  {
   "cell_type": "markdown",
   "metadata": {},
   "source": [
    "## Latitude vs. Cloudiness Plot"
   ]
  },
  {
   "cell_type": "code",
   "execution_count": 57,
   "metadata": {},
   "outputs": [
    {
     "data": {
      "image/png": "[encoded data removed]",
      "text/plain": [
       "<Figure size 432x288 with 1 Axes>"
      ]
     },
     "metadata": {
      "needs_background": "light"
     },
     "output_type": "display_data"
    },
    {
     "name": "stdout",
     "output_type": "stream",
     "text": [
      "Based on the Random Cities selected, there city latititude and the cloudiness of the city have absolutely nothing to do with each other.\n"
     ]
    }
   ],
   "source": [
    "plt.scatter(city_df[\"Lat\"],city_df[\"Cloudiness\"])\n",
    "plt.title(\"City Latitude vs. Cloudiness (02/02/21)\")\n",
    "plt.xlabel(\"Latitude\")\n",
    "plt.ylabel(\"Cloudiness (%)\")\n",
    "plt.savefig(\"../Output_data/Lat_Cloud.png\")\n",
    "plt.show()\n",
    "print(\"Based on the Random Cities selected, there city latititude and the cloudiness of the city have absolutely nothing to do with each other.\")"
   ]
  },
  {
   "cell_type": "markdown",
   "metadata": {},
   "source": [
    "## Latitude vs. Wind Speed Plot"
   ]
  },
  {
   "cell_type": "code",
   "execution_count": 58,
   "metadata": {},
   "outputs": [
    {
     "data": {
      "image/png": "[encoded data removed]",
      "text/plain": [
       "<Figure size 432x288 with 1 Axes>"
      ]
     },
     "metadata": {
      "needs_background": "light"
     },
     "output_type": "display_data"
    },
    {
     "name": "stdout",
     "output_type": "stream",
     "text": [
      "Based on the Random Cities selected, there does not appear to be a relationship between city latitude and wind speed.  At most, you can say that a majority of the cities selected have wind speed from zero (mph) to 12 (mph)\n"
     ]
    }
   ],
   "source": [
    "plt.scatter(city_df[\"Lat\"],city_df[\"Wind Speed\"])\n",
    "plt.title(\"City Latitude vs. Wind Speed (02/02/21)\")\n",
    "plt.xlabel(\"Latitude\")\n",
    "plt.ylabel(\"Wind Speed (mph)\")\n",
    "plt.savefig(\"../Output_data/Lat_Wind.png\")\n",
    "plt.show()\n",
    "print(\"Based on the Random Cities selected, there does not appear to be a relationship between city latitude and wind speed.  At most, you can say that a majority of the cities selected have wind speed from zero (mph) to 12 (mph)\")"
   ]
  },
  {
   "cell_type": "markdown",
   "metadata": {},
   "source": [
    "## Linear Regression"
   ]
  },
  {
   "cell_type": "code",
   "execution_count": 59,
   "metadata": {},
   "outputs": [],
   "source": [
    "# Group the city list into two lists, one for the northern hemisphere and one for the southern hemisphere\n",
    "northern_city_df = city_df.loc[(city_df[\"Lat\"] >= 0)]\n",
    "southern_city_df = city_df.loc[(city_df[\"Lat\"] < 0)]\n",
    "\n",
    "# Linear regression model for northern hemisphere.\n",
    "x_values = northern_city_df[\"Lat\"]\n",
    "y_values = northern_city_df[\"Max Temp\"]\n",
    "(slope, intercept, rvalue, pvalue, stderr) = linregress(x_values, y_values)\n",
    "regress_values = x_values * slope + intercept\n",
    "line_eq = \"y = \" + str(round(slope,2)) + \"x + \" + str(round(intercept,2))"
   ]
  },
  {
   "cell_type": "markdown",
   "metadata": {},
   "source": [
    "####  Northern Hemisphere - Max Temp vs. Latitude Linear Regression"
   ]
  },
  {
   "cell_type": "code",
   "execution_count": 60,
   "metadata": {},
   "outputs": [
    {
     "name": "stdout",
     "output_type": "stream",
     "text": [
      "The r-squared is: 0.743132973880143\n"
     ]
    },
    {
     "data": {
      "image/png": "[encoded data removed]",
      "text/plain": [
       "<Figure size 432x288 with 1 Axes>"
      ]
     },
     "metadata": {
      "needs_background": "light"
     },
     "output_type": "display_data"
    },
    {
     "name": "stdout",
     "output_type": "stream",
     "text": [
      "Based on the Random Cities selected, there does appear to be a relationship between city latitude and Maximum Temperature.\n"
     ]
    }
   ],
   "source": [
    "# plotting regression model\n",
    "\n",
    "plt.scatter(x_values,y_values)\n",
    "plt.plot(x_values,regress_values,\"r-\")\n",
    "plt.annotate(line_eq,(6,10),fontsize=15,color=\"red\")\n",
    "\n",
    "plt.xlabel(\"Lattitude\")\n",
    "plt.ylabel(\"Max Temperature (f)\")\n",
    "print(f\"The r-squared is: {rvalue**2}\")\n",
    "plt.savefig(\"../Output_data/MaxTemp_Lat_Northern.png\")\n",
    "plt.show()\n",
    "print(\"Based on the Random Cities selected, there does appear to be a relationship between city latitude and Maximum Temperature.\")"
   ]
  },
  {
   "cell_type": "markdown",
   "metadata": {},
   "source": [
    "####  Southern Hemisphere - Max Temp vs. Latitude Linear Regression"
   ]
  },
  {
   "cell_type": "code",
   "execution_count": 61,
   "metadata": {},
   "outputs": [],
   "source": [
    "# Linear regression model for southern hemisphere.\n",
    "x_values = southern_city_df[\"Lat\"]\n",
    "y_values = southern_city_df[\"Max Temp\"]\n",
    "(slope, intercept, rvalue, pvalue, stderr) = linregress(x_values, y_values)\n",
    "regress_values = x_values * slope + intercept\n",
    "line_eq = \"y = \" + str(round(slope,2)) + \"x + \" + str(round(intercept,2))"
   ]
  },
  {
   "cell_type": "code",
   "execution_count": 62,
   "metadata": {},
   "outputs": [
    {
     "name": "stdout",
     "output_type": "stream",
     "text": [
      "The r-squared is: 0.4458911260359939\n"
     ]
    },
    {
     "data": {
      "image/png": "[encoded data removed]",
      "text/plain": [
       "<Figure size 432x288 with 1 Axes>"
      ]
     },
     "metadata": {
      "needs_background": "light"
     },
     "output_type": "display_data"
    },
    {
     "name": "stdout",
     "output_type": "stream",
     "text": [
      "Based on the Random Cities selected, there does appear to be a relationship between city latitude and Maximum Temperature.\n"
     ]
    }
   ],
   "source": [
    "plt.scatter(x_values,y_values)\n",
    "plt.plot(x_values,regress_values,\"r-\")\n",
    "plt.annotate(line_eq,(6,10),fontsize=15,color=\"red\")\n",
    "\n",
    "plt.xlabel(\"Lattitude\")\n",
    "plt.ylabel(\"Max Temperature (f)\")\n",
    "print(f\"The r-squared is: {rvalue**2}\")\n",
    "plt.savefig(\"../Output_data/MaxTemp_Lat.Southern.png\")\n",
    "plt.show()\n",
    "print(\"Based on the Random Cities selected, there does appear to be a relationship between city latitude and Maximum Temperature.\")"
   ]
  },
  {
   "cell_type": "markdown",
   "metadata": {},
   "source": [
    "####  Northern Hemisphere - Humidity (%) vs. Latitude Linear Regression"
   ]
  },
  {
   "cell_type": "code",
   "execution_count": 63,
   "metadata": {},
   "outputs": [],
   "source": [
    "# Linear regression model for northern hemisphere.\n",
    "x_values = northern_city_df[\"Lat\"]\n",
    "y_values = northern_city_df[\"Humidity\"]\n",
    "(slope, intercept, rvalue, pvalue, stderr) = linregress(x_values, y_values)\n",
    "regress_values = x_values * slope + intercept\n",
    "line_eq = \"y = \" + str(round(slope,2)) + \"x + \" + str(round(intercept,2))"
   ]
  },
  {
   "cell_type": "code",
   "execution_count": 64,
   "metadata": {},
   "outputs": [
    {
     "name": "stdout",
     "output_type": "stream",
     "text": [
      "The r-squared is: 0.14141029596109891\n"
     ]
    },
    {
     "data": {
      "image/png": "[encoded data removed]",
      "text/plain": [
       "<Figure size 432x288 with 1 Axes>"
      ]
     },
     "metadata": {
      "needs_background": "light"
     },
     "output_type": "display_data"
    },
    {
     "name": "stdout",
     "output_type": "stream",
     "text": [
      "Based on the Random Cities selected, there does not appear to be a relationship between city latitude and Maximum Temperature.  The linear line is nearly horizontal.\n"
     ]
    }
   ],
   "source": [
    "plt.scatter(x_values,y_values)\n",
    "plt.plot(x_values,regress_values,\"r-\")\n",
    "plt.annotate(line_eq,(6,10),fontsize=15,color=\"red\")\n",
    "\n",
    "plt.xlabel(\"Latitude\")\n",
    "plt.ylabel(\"Humidity (%)\")\n",
    "print(f\"The r-squared is: {rvalue**2}\")\n",
    "plt.savefig(\"../Output_data/Humidity_Lat_Northern.png\")\n",
    "plt.show()\n",
    "print(\"Based on the Random Cities selected, there does not appear to be a relationship between city latitude and Maximum Temperature.  The linear line is nearly horizontal.\")"
   ]
  },
  {
   "cell_type": "markdown",
   "metadata": {},
   "source": [
    "####  Southern Hemisphere - Humidity (%) vs. Latitude Linear Regression"
   ]
  },
  {
   "cell_type": "code",
   "execution_count": 65,
   "metadata": {},
   "outputs": [],
   "source": [
    "# Linear regression model for southern hemisphere.\n",
    "x_values = southern_city_df[\"Lat\"]\n",
    "y_values = southern_city_df[\"Humidity\"]\n",
    "(slope, intercept, rvalue, pvalue, stderr) = linregress(x_values, y_values)\n",
    "regress_values = x_values * slope + intercept\n",
    "line_eq = \"y = \" + str(round(slope,2)) + \"x + \" + str(round(intercept,2))"
   ]
  },
  {
   "cell_type": "code",
   "execution_count": 66,
   "metadata": {},
   "outputs": [
    {
     "name": "stdout",
     "output_type": "stream",
     "text": [
      "The r-squared is: 0.004508111519138314\n"
     ]
    },
    {
     "data": {
      "image/png": "[encoded data removed]",
      "text/plain": [
       "<Figure size 432x288 with 1 Axes>"
      ]
     },
     "metadata": {
      "needs_background": "light"
     },
     "output_type": "display_data"
    },
    {
     "name": "stdout",
     "output_type": "stream",
     "text": [
      "Based on the Random Cities selected, there does not appear to be a relationship between city latitude and Maximum Temperature.  The linear line is nearly horizontal.\n"
     ]
    }
   ],
   "source": [
    "plt.scatter(x_values,y_values)\n",
    "plt.plot(x_values,regress_values,\"r-\")\n",
    "plt.annotate(line_eq,(6,10),fontsize=15,color=\"red\")\n",
    "\n",
    "plt.xlabel(\"Latitude\")\n",
    "plt.ylabel(\"Humidity (%)\")\n",
    "print(f\"The r-squared is: {rvalue**2}\")\n",
    "plt.savefig(\"../Output_data/Humidity_Lat_Southern.png\")\n",
    "plt.show()\n",
    "print(\"Based on the Random Cities selected, there does not appear to be a relationship between city latitude and Maximum Temperature.  The linear line is nearly horizontal.\")"
   ]
  },
  {
   "cell_type": "markdown",
   "metadata": {},
   "source": [
    "####  Northern Hemisphere - Cloudiness (%) vs. Latitude Linear Regression"
   ]
  },
  {
   "cell_type": "code",
   "execution_count": 67,
   "metadata": {},
   "outputs": [],
   "source": [
    "# Linear regression model for northern hemisphere.\n",
    "x_values = northern_city_df[\"Lat\"]\n",
    "y_values = northern_city_df[\"Cloudiness\"]\n",
    "(slope, intercept, rvalue, pvalue, stderr) = linregress(x_values, y_values)\n",
    "regress_values = x_values * slope + intercept\n",
    "line_eq = \"y = \" + str(round(slope,2)) + \"x + \" + str(round(intercept,2))"
   ]
  },
  {
   "cell_type": "code",
   "execution_count": 68,
   "metadata": {},
   "outputs": [
    {
     "name": "stdout",
     "output_type": "stream",
     "text": [
      "The r-squared is: 0.04020453654122708\n"
     ]
    },
    {
     "data": {
      "image/png": "[encoded data removed]",
      "text/plain": [
       "<Figure size 432x288 with 1 Axes>"
      ]
     },
     "metadata": {
      "needs_background": "light"
     },
     "output_type": "display_data"
    },
    {
     "name": "stdout",
     "output_type": "stream",
     "text": [
      "Based on the Random Cities selected, there does not appear to be a relationship between city latitude and Maximum Temperature.  The linear line is nearly horizontal.\n"
     ]
    }
   ],
   "source": [
    "plt.scatter(x_values,y_values)\n",
    "plt.plot(x_values,regress_values,\"r-\")\n",
    "plt.annotate(line_eq,(6,10),fontsize=15,color=\"red\")\n",
    "\n",
    "plt.xlabel(\"Latitude\")\n",
    "plt.ylabel(\"Cloudiness (%)\")\n",
    "print(f\"The r-squared is: {rvalue**2}\")\n",
    "plt.savefig(\"../Output_data/Cloudiness_Lat_Northern.png\")\n",
    "plt.show()\n",
    "print(\"Based on the Random Cities selected, there does not appear to be a relationship between city latitude and Maximum Temperature.  The linear line is nearly horizontal.\")"
   ]
  },
  {
   "cell_type": "markdown",
   "metadata": {},
   "source": [
    "####  Southern Hemisphere - Cloudiness (%) vs. Latitude Linear Regression"
   ]
  },
  {
   "cell_type": "code",
   "execution_count": 69,
   "metadata": {},
   "outputs": [],
   "source": [
    "# Linear regression model for southern hemisphere.\n",
    "x_values = southern_city_df[\"Lat\"]\n",
    "y_values = southern_city_df[\"Cloudiness\"]\n",
    "(slope, intercept, rvalue, pvalue, stderr) = linregress(x_values, y_values)\n",
    "regress_values = x_values * slope + intercept\n",
    "line_eq = \"y = \" + str(round(slope,2)) + \"x + \" + str(round(intercept,2))"
   ]
  },
  {
   "cell_type": "code",
   "execution_count": 70,
   "metadata": {},
   "outputs": [
    {
     "name": "stdout",
     "output_type": "stream",
     "text": [
      "The r-squared is: 0.09903262651833558\n"
     ]
    },
    {
     "data": {
      "image/png": "[encoded data removed]",
      "text/plain": [
       "<Figure size 432x288 with 1 Axes>"
      ]
     },
     "metadata": {
      "needs_background": "light"
     },
     "output_type": "display_data"
    },
    {
     "name": "stdout",
     "output_type": "stream",
     "text": [
      "Based on the Random Cities selected, there does not appear to be a relationship between city latitude and Maximum Temperature.  The linear line is nearly horizontal.\n"
     ]
    }
   ],
   "source": [
    "plt.scatter(x_values,y_values)\n",
    "plt.plot(x_values,regress_values,\"r-\")\n",
    "plt.annotate(line_eq,(6,10),fontsize=15,color=\"red\")\n",
    "\n",
    "plt.xlabel(\"Latitude\")\n",
    "plt.ylabel(\"Cloudiness (%)\")\n",
    "print(f\"The r-squared is: {rvalue**2}\")\n",
    "plt.savefig(\"../Output_data/Cloudiness_Lat_Southern.png\")\n",
    "plt.show()\n",
    "print(\"Based on the Random Cities selected, there does not appear to be a relationship between city latitude and Maximum Temperature.  The linear line is nearly horizontal.\")"
   ]
  },
  {
   "cell_type": "markdown",
   "metadata": {},
   "source": [
    "####  Northern Hemisphere - Wind Speed (mph) vs. Latitude Linear Regression"
   ]
  },
  {
   "cell_type": "code",
   "execution_count": 71,
   "metadata": {},
   "outputs": [],
   "source": [
    "# Linear regression model for northern hemisphere.\n",
    "x_values = northern_city_df[\"Lat\"]\n",
    "y_values = northern_city_df[\"Wind Speed\"]\n",
    "(slope, intercept, rvalue, pvalue, stderr) = linregress(x_values, y_values)\n",
    "regress_values = x_values * slope + intercept\n",
    "line_eq = \"y = \" + str(round(slope,2)) + \"x + \" + str(round(intercept,2))"
   ]
  },
  {
   "cell_type": "code",
   "execution_count": 72,
   "metadata": {},
   "outputs": [
    {
     "name": "stdout",
     "output_type": "stream",
     "text": [
      "The r-squared is: 0.0007665971432237901\n"
     ]
    },
    {
     "data": {
      "image/png": "[encoded data removed]",
      "text/plain": [
       "<Figure size 432x288 with 1 Axes>"
      ]
     },
     "metadata": {
      "needs_background": "light"
     },
     "output_type": "display_data"
    },
    {
     "name": "stdout",
     "output_type": "stream",
     "text": [
      "Based on the Random Cities selected, there does not appear to be a relationship between city latitude and Maximum Temperature.  The linear line is nearly horizontal.\n"
     ]
    }
   ],
   "source": [
    "plt.scatter(x_values,y_values)\n",
    "plt.plot(x_values,regress_values,\"r-\")\n",
    "plt.annotate(line_eq,(6,10),fontsize=15,color=\"red\")\n",
    "\n",
    "plt.xlabel(\"Latitude\")\n",
    "plt.ylabel(\"Wind Speed\")\n",
    "print(f\"The r-squared is: {rvalue**2}\")\n",
    "plt.savefig(\"../Output_data/Wind_Lat_Northern.png\")\n",
    "plt.show()\n",
    "print(\"Based on the Random Cities selected, there does not appear to be a relationship between city latitude and Maximum Temperature.  The linear line is nearly horizontal.\")"
   ]
  },
  {
   "cell_type": "markdown",
   "metadata": {},
   "source": [
    "####  Southern Hemisphere - Wind Speed (mph) vs. Latitude Linear Regression"
   ]
  },
  {
   "cell_type": "code",
   "execution_count": 73,
   "metadata": {},
   "outputs": [],
   "source": [
    "# Linear regression model for southern hemisphere.\n",
    "x_values = southern_city_df[\"Lat\"]\n",
    "y_values = southern_city_df[\"Wind Speed\"]\n",
    "(slope, intercept, rvalue, pvalue, stderr) = linregress(x_values, y_values)\n",
    "regress_values = x_values * slope + intercept\n",
    "line_eq = \"y = \" + str(round(slope,2)) + \"x + \" + str(round(intercept,2))"
   ]
  },
  {
   "cell_type": "code",
   "execution_count": 74,
   "metadata": {},
   "outputs": [
    {
     "name": "stdout",
     "output_type": "stream",
     "text": [
      "The r-squared is: 0.006199306205294134\n"
     ]
    },
    {
     "data": {
      "image/png": "[encoded data removed]",
      "text/plain": [
       "<Figure size 432x288 with 1 Axes>"
      ]
     },
     "metadata": {
      "needs_background": "light"
     },
     "output_type": "display_data"
    },
    {
     "name": "stdout",
     "output_type": "stream",
     "text": [
      "Based on the Random Cities selected, there does not appear to be a relationship between city latitude and Maximum Temperature.  The linear line is nearly horizontal.\n"
     ]
    }
   ],
   "source": [
    "plt.scatter(x_values,y_values)\n",
    "plt.plot(x_values,regress_values,\"r-\")\n",
    "plt.annotate(line_eq,(6,10),fontsize=15,color=\"red\")\n",
    "\n",
    "plt.xlabel(\"Latitude\")\n",
    "plt.ylabel(\"Wind Speed\")\n",
    "print(f\"The r-squared is: {rvalue**2}\")\n",
    "plt.savefig(\"../Output_data/Wind_Lat_Souththern.png\")\n",
    "plt.show()\n",
    "print(\"Based on the Random Cities selected, there does not appear to be a relationship between city latitude and Maximum Temperature.  The linear line is nearly horizontal.\")"
   ]
  },
  {
   "cell_type": "code",
   "execution_count": null,
   "metadata": {},
   "outputs": [],
   "source": []
  }
 ],
 "metadata": {
  "anaconda-cloud": {},
  "kernel_info": {
   "name": "python3"
  },
  "kernelspec": {
   "display_name": "PythonData",
   "language": "python",
   "name": "pythondata"
  },
  "language_info": {
   "codemirror_mode": {
    "name": "ipython",
    "version": 3
   },
   "file_extension": ".py",
   "mimetype": "text/x-python",
   "name": "python",
   "nbconvert_exporter": "python",
   "pygments_lexer": "ipython3",
   "version": "3.8.5"
  },
  "latex_envs": {
   "LaTeX_envs_menu_present": true,
   "autoclose": false,
   "autocomplete": true,
   "bibliofile": "biblio.bib",
   "cite_by": "apalike",
   "current_citInitial": 1,
   "eqLabelWithNumbers": true,
   "eqNumInitial": 1,
   "hotkeys": {
    "equation": "Ctrl-E",
    "itemize": "Ctrl-I"
   },
   "labels_anchors": false,
   "latex_user_defs": false,
   "report_style_numbering": false,
   "user_envs_cfg": false
  },
  "nteract": {
   "version": "0.12.3"
  }
 },
 "nbformat": 4,
 "nbformat_minor": 2
}
